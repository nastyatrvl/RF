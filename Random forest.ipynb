{
 "cells": [
  {
   "cell_type": "markdown",
   "metadata": {},
   "source": [
    "## a"
   ]
  },
  {
   "cell_type": "code",
   "execution_count": 13,
   "metadata": {
    "scrolled": true
   },
   "outputs": [
    {
     "name": "stdout",
     "output_type": "stream",
     "text": [
      "Requirement already satisfied: mnist in /anaconda3/lib/python3.7/site-packages (0.2.2)\r\n",
      "Requirement already satisfied: numpy in /anaconda3/lib/python3.7/site-packages (from mnist) (1.16.2)\r\n"
     ]
    }
   ],
   "source": [
    "import numpy as np\n",
    "import sys\n",
    "import matplotlib.pyplot as plt\n",
    "import numpy.random as npr\n",
    "from sklearn.tree import DecisionTreeClassifier\n",
    "from sklearn.model_selection import train_test_split \n",
    "!{sys.executable} -m pip install mnist"
   ]
  },
  {
   "cell_type": "code",
   "execution_count": 21,
   "metadata": {
    "scrolled": true
   },
   "outputs": [
    {
     "data": {
      "text/plain": [
       "['IdxDecodeError',\n",
       " '__builtins__',\n",
       " '__cached__',\n",
       " '__doc__',\n",
       " '__file__',\n",
       " '__loader__',\n",
       " '__name__',\n",
       " '__package__',\n",
       " '__path__',\n",
       " '__spec__',\n",
       " '__version__',\n",
       " 'array',\n",
       " 'datasets_url',\n",
       " 'download_and_parse_mnist_file',\n",
       " 'download_file',\n",
       " 'functools',\n",
       " 'gzip',\n",
       " 'numpy',\n",
       " 'operator',\n",
       " 'os',\n",
       " 'parse_idx',\n",
       " 'struct',\n",
       " 'tempfile',\n",
       " 'temporary_dir',\n",
       " 'test_images',\n",
       " 'test_labels',\n",
       " 'train_images',\n",
       " 'train_labels',\n",
       " 'urljoin',\n",
       " 'urlretrieve']"
      ]
     },
     "execution_count": 21,
     "metadata": {},
     "output_type": "execute_result"
    }
   ],
   "source": [
    "import mnist"
   ]
  },
  {
   "cell_type": "code",
   "execution_count": 22,
   "metadata": {},
   "outputs": [],
   "source": [
    "from mlxtend.data import loadlocal_mnist"
   ]
  },
  {
   "cell_type": "code",
   "execution_count": 24,
   "metadata": {},
   "outputs": [],
   "source": [
    "X, y = loadlocal_mnist(\n",
    "        images_path='/Users/anastasia/Downloads/train-images-idx3-ubyte', \n",
    "        labels_path='/Users/anastasia/Downloads/train-labels-idx1-ubyte')"
   ]
  },
  {
   "cell_type": "code",
   "execution_count": 25,
   "metadata": {},
   "outputs": [
    {
     "data": {
      "text/plain": [
       "(60000, 784)"
      ]
     },
     "execution_count": 25,
     "metadata": {},
     "output_type": "execute_result"
    }
   ],
   "source": [
    "X.shape"
   ]
  },
  {
   "cell_type": "markdown",
   "metadata": {},
   "source": [
    "## b"
   ]
  },
  {
   "cell_type": "code",
   "execution_count": 33,
   "metadata": {},
   "outputs": [],
   "source": [
    "def create_clf(m, n, k, X, y): \n",
    "    tr = []\n",
    "    trf = []\n",
    "    for i in range(m):\n",
    "        tree = DecisionTreeClassifier()\n",
    "        sp = npr.choice(range(len(X)), n)\n",
    "        features = npr.choice(range(len(X[0])), k) \n",
    "        tree.fit(X[sp, :][:, features], y[sp]) \n",
    "        tr = tr + [tree]\n",
    "        trf = trf + [features]\n",
    "    return tr, trf"
   ]
  },
  {
   "cell_type": "code",
   "execution_count": 36,
   "metadata": {},
   "outputs": [],
   "source": [
    "def predictor(m, X, tr, trf): \n",
    "    sum = np.zeros((len(X), 10))\n",
    "    for i in range(m):\n",
    "        sum = sum + tr[i].predict_proba(X[:, trf[i]])\n",
    "    return np.argmax(sum/m, axis=1)"
   ]
  },
  {
   "cell_type": "markdown",
   "metadata": {},
   "source": [
    "## c"
   ]
  },
  {
   "cell_type": "code",
   "execution_count": 37,
   "metadata": {},
   "outputs": [
    {
     "data": {
      "text/plain": [
       "(50000, 784)"
      ]
     },
     "execution_count": 37,
     "metadata": {},
     "output_type": "execute_result"
    }
   ],
   "source": [
    "train_data, test_data, train_labels, test_labels = train_test_split(X, y, train_size=50000, stratify=y)\n",
    "train_data.shape"
   ]
  },
  {
   "cell_type": "code",
   "execution_count": 39,
   "metadata": {},
   "outputs": [],
   "source": [
    "def test_fcl(m, n, k):\n",
    "    classif, feat = create_clf(m, n, k, train_data, train_labels) \n",
    "    predictions = predictor(m, test_data, classif, feat)\n",
    "    accuracy = np.sum(predictions == test_labels) / 10000\n",
    "    return accuracy"
   ]
  },
  {
   "cell_type": "code",
   "execution_count": 40,
   "metadata": {},
   "outputs": [
    {
     "data": {
      "text/plain": [
       "0.7202"
      ]
     },
     "execution_count": 40,
     "metadata": {},
     "output_type": "execute_result"
    }
   ],
   "source": [
    "test_fcl(10, 1000, 20)"
   ]
  },
  {
   "cell_type": "markdown",
   "metadata": {},
   "source": [
    "## d"
   ]
  },
  {
   "cell_type": "code",
   "execution_count": 44,
   "metadata": {},
   "outputs": [
    {
     "data": {
      "image/png": "[encoded data removed]",
      "text/plain": [
       "<Figure size 432x288 with 1 Axes>"
      ]
     },
     "metadata": {
      "needs_background": "light"
     },
     "output_type": "display_data"
    }
   ],
   "source": [
    "m = 10\n",
    "n = 1000\n",
    "accuracies = []\n",
    "for k in range(5, 200, 2):\n",
    "    accuracies = accuracies + [test_fcl(m, n, k)]\n",
    "plt.plot(range(5, 200, 2), accuracies) \n",
    "plt.ylabel('Accuracy')\n",
    "plt.xlabel('k')"
   ]
  },
  {
   "cell_type": "code",
   "execution_count": 47,
   "metadata": {},
   "outputs": [
    {
     "data": {
      "text/plain": [
       "<matplotlib.legend.Legend at 0x1a1c96fc50>"
      ]
     },
     "execution_count": 47,
     "metadata": {},
     "output_type": "execute_result"
    },
    {
     "data": {
      "image/png": "[encoded data removed]",
      "text/plain": [
       "<Figure size 432x288 with 1 Axes>"
      ]
     },
     "metadata": {
      "needs_background": "light"
     },
     "output_type": "display_data"
    }
   ],
   "source": [
    "k = 50\n",
    "n = 1000\n",
    "accuracies = []\n",
    "for m in range(1, 20):\n",
    "    accuracies = accuracies + [test_fcl(m, n, k)]\n",
    "plt.plot(range(1, 20), accuracies) \n",
    "plt.ylabel('Accuracy')\n",
    "plt.xlabel('m')"
   ]
  },
  {
   "cell_type": "code",
   "execution_count": 54,
   "metadata": {},
   "outputs": [
    {
     "data": {
      "text/plain": [
       "Text(0.5, 0, 'n')"
      ]
     },
     "execution_count": 54,
     "metadata": {},
     "output_type": "execute_result"
    },
    {
     "data": {
      "image/png": "[encoded data removed]",
      "text/plain": [
       "<Figure size 432x288 with 1 Axes>"
      ]
     },
     "metadata": {
      "needs_background": "light"
     },
     "output_type": "display_data"
    }
   ],
   "source": [
    "k = 50\n",
    "m = 10\n",
    "accuracies = []\n",
    "for n in range(50, 1000, 30):\n",
    "    accuracies = accuracies + [test_fcl(m, n, k)]\n",
    "plt.plot(range(50, 1000, 30), accuracies) \n",
    "plt.ylabel('Accuracy')\n",
    "plt.xlabel('n')"
   ]
  },
  {
   "cell_type": "code",
   "execution_count": null,
   "metadata": {},
   "outputs": [],
   "source": []
  }
 ],
 "metadata": {
  "kernelspec": {
   "display_name": "Python 3",
   "language": "python",
   "name": "python3"
  },
  "language_info": {
   "codemirror_mode": {
    "name": "ipython",
    "version": 3
   },
   "file_extension": ".py",
   "mimetype": "text/x-python",
   "name": "python",
   "nbconvert_exporter": "python",
   "pygments_lexer": "ipython3",
   "version": "3.7.3"
  }
 },
 "nbformat": 4,
 "nbformat_minor": 2
}
